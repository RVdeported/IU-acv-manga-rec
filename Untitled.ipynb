{
 "cells": [
  {
   "cell_type": "code",
   "execution_count": 40,
   "id": "8b730f49-fd82-4f44-bf05-fbd70f9714b1",
   "metadata": {
    "collapsed": true,
    "jupyter": {
     "outputs_hidden": true
    },
    "tags": []
   },
   "outputs": [
    {
     "name": "stdout",
     "output_type": "stream",
     "text": [
      "Collecting annoy\n",
      "  Downloading annoy-1.17.3.tar.gz (647 kB)\n",
      "                                              0.0/647.5 kB ? eta -:--:--\n",
      "     -                                        30.7/647.5 kB ? eta -:--:--\n",
      "     ------                                 112.6/647.5 kB 1.6 MB/s eta 0:00:01\n",
      "     -------------                          235.5/647.5 kB 2.0 MB/s eta 0:00:01\n",
      "     ----------------------------           481.3/647.5 kB 3.0 MB/s eta 0:00:01\n",
      "     -------------------------------------- 647.5/647.5 kB 3.1 MB/s eta 0:00:00\n",
      "  Preparing metadata (setup.py): started\n",
      "  Preparing metadata (setup.py): finished with status 'done'\n",
      "Building wheels for collected packages: annoy\n",
      "  Building wheel for annoy (setup.py): started\n",
      "  Building wheel for annoy (setup.py): finished with status 'done'\n",
      "  Created wheel for annoy: filename=annoy-1.17.3-cp311-cp311-win_amd64.whl size=52426 sha256=7c27220e97efb3db97528be23fef094c9cca601d0f0bbfa36605405c8f9d6f70\n",
      "  Stored in directory: c:\\users\\pavel\\appdata\\local\\pip\\cache\\wheels\\33\\e5\\58\\0a3e34b92bedf09b4c57e37a63ff395ade6f6c1099ba59877c\n",
      "Successfully built annoy\n",
      "Installing collected packages: annoy\n",
      "Successfully installed annoy-1.17.3\n"
     ]
    },
    {
     "name": "stderr",
     "output_type": "stream",
     "text": [
      "\n",
      "[notice] A new release of pip is available: 23.1.2 -> 23.3.1\n",
      "[notice] To update, run: python.exe -m pip install --upgrade pip\n"
     ]
    }
   ],
   "source": [
    "!pip install annoy"
   ]
  },
  {
   "cell_type": "code",
   "execution_count": 194,
   "id": "d400ed62-95ca-4837-9b26-7267ed96ef2d",
   "metadata": {
    "tags": []
   },
   "outputs": [],
   "source": [
    "from src.dataset import YoloDataset\n",
    "from src.model import YoloModel\n",
    "from src.feature_utils import BERTconverter\n",
    "from pathlib import Path\n",
    "from annoy import AnnoyIndex\n",
    "from pathlib import Path"
   ]
  },
  {
   "cell_type": "code",
   "execution_count": 2,
   "id": "2e722db8-eade-4c99-b1d6-381f31cf6136",
   "metadata": {
    "tags": []
   },
   "outputs": [],
   "source": [
    "shape = (128,512)"
   ]
  },
  {
   "cell_type": "code",
   "execution_count": 3,
   "id": "9378be33-a896-453f-b5c0-979d1df66bea",
   "metadata": {
    "collapsed": true,
    "jupyter": {
     "outputs_hidden": true
    },
    "tags": []
   },
   "outputs": [
    {
     "name": "stderr",
     "output_type": "stream",
     "text": [
      "New https://pypi.org/project/ultralytics/8.0.207 available  Update with 'pip install -U ultralytics'\n",
      "Ultralytics YOLOv8.0.206  Python-3.11.3 torch-2.0.0+cu117 CUDA:0 (NVIDIA GeForce RTX 3070 Ti Laptop GPU, 8192MiB)\n",
      "\u001b[34m\u001b[1mengine\\trainer: \u001b[0mtask=classify, mode=train, model=yolov8m-cls.pt, data=prepared_data/, epochs=1, patience=50, batch=16, imgsz=(128, 512), save=True, save_period=-1, cache=False, device=None, workers=8, project=None, name=train20, exist_ok=False, pretrained=True, optimizer=auto, verbose=True, seed=0, deterministic=True, single_cls=False, rect=False, cos_lr=False, close_mosaic=10, resume=False, amp=True, fraction=1.0, profile=False, freeze=None, overlap_mask=True, mask_ratio=4, dropout=0.0, val=True, split=val, save_json=False, save_hybrid=False, conf=None, iou=0.7, max_det=300, half=False, dnn=False, plots=True, source=None, show=False, save_txt=False, save_conf=False, save_crop=False, show_labels=True, show_conf=True, vid_stride=1, stream_buffer=False, line_width=None, visualize=False, augment=False, agnostic_nms=False, classes=None, retina_masks=False, boxes=True, format=torchscript, keras=False, optimize=False, int8=False, dynamic=False, simplify=False, opset=None, workspace=4, nms=False, lr0=0.01, lrf=0.01, momentum=0.937, weight_decay=0.0005, warmup_epochs=3.0, warmup_momentum=0.8, warmup_bias_lr=0.1, box=7.5, cls=0.5, dfl=1.5, pose=12.0, kobj=1.0, label_smoothing=0.0, nbs=64, hsv_h=0.015, hsv_s=0.7, hsv_v=0.4, degrees=0.0, translate=0.1, scale=0.5, shear=0.0, perspective=0.0, flipud=0.0, fliplr=0.5, mosaic=1.0, mixup=0.0, copy_paste=0.0, cfg=None, tracker=botsort.yaml, save_dir=runs\\classify\\train20\n",
      "\u001b[34m\u001b[1mtrain:\u001b[0m C:\\Users\\Pavel\\Desktop\\ACV\\IU-acv-manga-rec\\prepared_data\\train... found 539 images in 4 classes  \n",
      "\u001b[34m\u001b[1mval:\u001b[0m C:\\Users\\Pavel\\Desktop\\ACV\\IU-acv-manga-rec\\prepared_data\\val... found 169 images in 4 classes  \n",
      "\u001b[34m\u001b[1mtest:\u001b[0m C:\\Users\\Pavel\\Desktop\\ACV\\IU-acv-manga-rec\\prepared_data\\test... found 206 images in 4 classes  \n",
      "Overriding model.yaml nc=1000 with nc=4\n",
      "\n",
      "                   from  n    params  module                                       arguments                     \n",
      "  0                  -1  1      1392  ultralytics.nn.modules.conv.Conv             [3, 48, 3, 2]                 \n",
      "  1                  -1  1     41664  ultralytics.nn.modules.conv.Conv             [48, 96, 3, 2]                \n",
      "  2                  -1  2    111360  ultralytics.nn.modules.block.C2f             [96, 96, 2, True]             \n",
      "  3                  -1  1    166272  ultralytics.nn.modules.conv.Conv             [96, 192, 3, 2]               \n",
      "  4                  -1  4    813312  ultralytics.nn.modules.block.C2f             [192, 192, 4, True]           \n",
      "  5                  -1  1    664320  ultralytics.nn.modules.conv.Conv             [192, 384, 3, 2]              \n",
      "  6                  -1  4   3248640  ultralytics.nn.modules.block.C2f             [384, 384, 4, True]           \n",
      "  7                  -1  1   2655744  ultralytics.nn.modules.conv.Conv             [384, 768, 3, 2]              \n",
      "  8                  -1  2   7084032  ultralytics.nn.modules.block.C2f             [768, 768, 2, True]           \n",
      "  9                  -1  1    990724  ultralytics.nn.modules.head.Classify         [768, 4]                      \n",
      "YOLOv8m-cls summary: 141 layers, 15777460 parameters, 15777460 gradients, 41.9 GFLOPs\n",
      "Transferred 228/230 items from pretrained weights\n",
      "\u001b[34m\u001b[1mTensorBoard: \u001b[0mStart with 'tensorboard --logdir runs\\classify\\train20', view at http://localhost:6006/\n",
      "\u001b[34m\u001b[1mAMP: \u001b[0mrunning Automatic Mixed Precision (AMP) checks with YOLOv8n...\n",
      "\u001b[34m\u001b[1mAMP: \u001b[0mchecks passed \n",
      "WARNING  updating to 'imgsz=512'. 'train' and 'val' imgsz must be an integer, while 'predict' and 'export' imgsz may be a [h, w] list or an integer, i.e. 'yolo export imgsz=640,480' or 'yolo export imgsz=640'\n",
      "\u001b[34m\u001b[1mtrain: \u001b[0mScanning C:\\Users\\Pavel\\Desktop\\ACV\\IU-acv-manga-rec\\prepared_data\\train... 539 images, 0 corrupt: 100%|████████\u001b[0m\n",
      "\u001b[34m\u001b[1mval: \u001b[0mScanning C:\\Users\\Pavel\\Desktop\\ACV\\IU-acv-manga-rec\\prepared_data\\val... 169 images, 0 corrupt: 100%|██████████| \u001b[0m\n",
      "\u001b[34m\u001b[1moptimizer:\u001b[0m 'optimizer=auto' found, ignoring 'lr0=0.01' and 'momentum=0.937' and determining best 'optimizer', 'lr0' and 'momentum' automatically... \n",
      "\u001b[34m\u001b[1moptimizer:\u001b[0m AdamW(lr=0.000714, momentum=0.9) with parameter groups 38 weight(decay=0.0), 39 weight(decay=0.0005), 39 bias(decay=0.0)\n",
      "Image sizes 512 train, 512 val\n",
      "Using 8 dataloader workers\n",
      "Logging results to \u001b[1mruns\\classify\\train20\u001b[0m\n",
      "Starting training for 1 epochs...\n",
      "\n",
      "      Epoch    GPU_mem       loss  Instances       Size\n",
      "        1/1      3.09G     0.3195         11        512: 100%|██████████| 34/34 [00:10<00:00,  3.24it/s]\n",
      "               classes   top1_acc   top5_acc: 100%|██████████| 6/6 [00:00<00:00,  6.17it/s]\n",
      "                   all      0.527          1\n",
      "\n",
      "1 epochs completed in 0.006 hours.\n",
      "Optimizer stripped from runs\\classify\\train20\\weights\\last.pt, 31.7MB\n",
      "Optimizer stripped from runs\\classify\\train20\\weights\\best.pt, 31.7MB\n",
      "\n",
      "Validating runs\\classify\\train20\\weights\\best.pt...\n",
      "Ultralytics YOLOv8.0.206  Python-3.11.3 torch-2.0.0+cu117 CUDA:0 (NVIDIA GeForce RTX 3070 Ti Laptop GPU, 8192MiB)\n",
      "YOLOv8m-cls summary (fused): 103 layers, 15767780 parameters, 0 gradients, 41.6 GFLOPs\n",
      "\u001b[34m\u001b[1mtrain:\u001b[0m C:\\Users\\Pavel\\Desktop\\ACV\\IU-acv-manga-rec\\prepared_data\\train... found 539 images in 4 classes  \n",
      "\u001b[34m\u001b[1mval:\u001b[0m C:\\Users\\Pavel\\Desktop\\ACV\\IU-acv-manga-rec\\prepared_data\\val... found 169 images in 4 classes  \n",
      "\u001b[34m\u001b[1mtest:\u001b[0m C:\\Users\\Pavel\\Desktop\\ACV\\IU-acv-manga-rec\\prepared_data\\test... found 206 images in 4 classes  \n",
      "               classes   top1_acc   top5_acc: 100%|██████████| 6/6 [00:00<00:00,  6.97it/s]\n",
      "                   all      0.527          1\n",
      "Speed: 1.0ms preprocess, 2.9ms inference, 0.0ms loss, 0.0ms postprocess per image\n",
      "Results saved to \u001b[1mruns\\classify\\train20\u001b[0m\n",
      "Results saved to \u001b[1mruns\\classify\\train20\u001b[0m\n"
     ]
    }
   ],
   "source": [
    "yolo = YoloModel('prepared_data/', shape)"
   ]
  },
  {
   "cell_type": "code",
   "execution_count": 4,
   "id": "c78f83b3-eeea-4703-9fc4-1714bb9d75bd",
   "metadata": {
    "tags": []
   },
   "outputs": [],
   "source": [
    "import pickle"
   ]
  },
  {
   "cell_type": "code",
   "execution_count": 5,
   "id": "44ac199d-e236-4030-b6dc-daea92ae15d2",
   "metadata": {},
   "outputs": [],
   "source": [
    "with open(\"yolo.pick\", \"wb+\") as file:\n",
    "    pickle.dump(yolo, file)"
   ]
  },
  {
   "cell_type": "code",
   "execution_count": 4,
   "id": "7ce07cba-c2d7-4490-b11f-89f5117bc55b",
   "metadata": {
    "tags": []
   },
   "outputs": [],
   "source": [
    "with open(\"yolo.pick\", \"rb\") as file:\n",
    "    yolo = pickle.load(file)"
   ]
  },
  {
   "cell_type": "code",
   "execution_count": 6,
   "id": "b2469f51-6cce-4660-9e8f-62e28dbe4b41",
   "metadata": {
    "tags": []
   },
   "outputs": [],
   "source": [
    "from torch.utils.data import DataLoader\n",
    "import os"
   ]
  },
  {
   "cell_type": "code",
   "execution_count": 254,
   "id": "81fe3fc4-f63a-465d-a80c-875c983a2847",
   "metadata": {
    "tags": []
   },
   "outputs": [],
   "source": [
    "class MangaPredictor:\n",
    "    def __init__(self, yolo, shape):\n",
    "        self.model = yolo\n",
    "        self.text = BERTconverter(a_device_ocr = 'cuda')\n",
    "        self.shape = shape\n",
    "        \n",
    "    def extract_title(self, path):\n",
    "        return path.split(os.sep)[-1].split('-')[0]\n",
    "        \n",
    "        # self.yolo(image), self.text(path[0]), \n",
    "        \n",
    "    def column(self, data, i):\n",
    "        return [r[i] for r in data]\n",
    "        \n",
    "    def get_features(self, folder):\n",
    "        dataset = YoloDataset(folder, self.shape)\n",
    "        loader = DataLoader(dataset, batch_size=1, shuffle=True)\n",
    "        transformed = []\n",
    "        for img, path in loader:\n",
    "            ph = path[0]\n",
    "            try:\n",
    "                transformed.append([self.model.forward(img).flatten(), self.text(ph), self.extract_title(ph), ph])\n",
    "            except:\n",
    "                print(ph)\n",
    "        return column(transformed, 0), column(transformed, 1), column(transformed, 2), column(transformed, 3)\n",
    "\n",
    "    def get_image_text(self, path):\n",
    "        img = Image.open(path).convert(\"RGB\")\n",
    "        normalize = transforms.Normalize(mean=[0.485, 0.456, 0.406],\n",
    "            std=[0.229, 0.224, 0.225])\n",
    "        comp = transforms.Compose([\n",
    "            transforms.Resize(shape),\n",
    "            transforms.ToTensor(),\n",
    "            normalize\n",
    "        ])\n",
    "        img = comp(img).unsqueeze(0)\n",
    "        \n",
    "        return self.model.forward(img).flatten(), self.text(path)"
   ]
  },
  {
   "cell_type": "code",
   "execution_count": 260,
   "id": "2c96a3c8-fe52-4662-9529-990acc93c546",
   "metadata": {
    "tags": []
   },
   "outputs": [],
   "source": [
    "a = MangaPredictor(yolo, shape)"
   ]
  },
  {
   "cell_type": "code",
   "execution_count": 257,
   "id": "9634c9fa-b3fb-4ca5-b72a-77b8a3308a3a",
   "metadata": {
    "tags": []
   },
   "outputs": [
    {
     "name": "stdout",
     "output_type": "stream",
     "text": [
      "prepared_data/test/дзёсэй\\Я пытаюсь развестись со своим мужем-злодеем, но у нас есть ребёнок-5.jpg\n",
      "prepared_data/test/сёнэн\\Сказания о демонах и богах-1.jpg\n",
      "prepared_data/test/сёнэн\\Эволюционные черты некроманта-0.jpg\n",
      "prepared_data/test/сёнэн\\Сказания о демонах и богах-8.jpg\n",
      "prepared_data/test/сэйнэн\\Я получил предмет мифического класса-5.jpg\n",
      "prepared_data/test/сэйнэн\\Эта фарфоровая кукла влюбилась-7.jpg\n",
      "prepared_data/test/сэйнэн\\Я злой бог-6.jpg\n",
      "prepared_data/test/сёнэн\\Эволюция большого дерева-1.jpg\n",
      "prepared_data/test/сёдзё\\У меня нет здоровья-5.jpg\n",
      "prepared_data/test/сёнэн\\Эволюция большого дерева-8.jpg\n"
     ]
    },
    {
     "name": "stderr",
     "output_type": "stream",
     "text": [
      "\n",
      "KeyboardInterrupt\n",
      "\n"
     ]
    }
   ],
   "source": [
    "img, text, manga, path = a.get_features('prepared_data/test/')"
   ]
  },
  {
   "cell_type": "code",
   "execution_count": 258,
   "id": "8dfb3a2a-b217-4b70-bbad-fa7d1b520d93",
   "metadata": {
    "tags": []
   },
   "outputs": [],
   "source": [
    "from PIL import Image\n",
    "from torchvision import transforms"
   ]
  },
  {
   "cell_type": "code",
   "execution_count": 262,
   "id": "652749a2-20e5-45a3-8e59-f66425a65e25",
   "metadata": {
    "tags": []
   },
   "outputs": [],
   "source": [
    "img, text = a.get_image_text('./prepared_data/val/сэйнэн/Монолог в аптечной лавке-0.jpg')"
   ]
  },
  {
   "cell_type": "code",
   "execution_count": 263,
   "id": "aff0359f-8ea5-45ed-bd7c-8c4dd9c0cd3b",
   "metadata": {
    "tags": []
   },
   "outputs": [
    {
     "data": {
      "text/plain": [
       "{('Страна самоцветов',\n",
       "  'prepared_data/test/дзёсэй\\\\Я воспитала прекрасную Золушку-6.jpg',\n",
       "  0.3634347915649414),\n",
       " ('Страна самоцветов',\n",
       "  'prepared_data/test/дзёсэй\\\\Я пытаюсь развестись со своим мужем-злодеем, но у нас есть ребёнок-6.jpg',\n",
       "  0.3542763888835907),\n",
       " ('Страна самоцветов',\n",
       "  'prepared_data/test/сёнэн\\\\Эволюционные черты некроманта-0.jpg',\n",
       "  0.35819756984710693),\n",
       " ('Фермерство в одиночку',\n",
       "  'prepared_data/test/сёдзё\\\\Я думала, это обыкновенный исэкай-5.jpg',\n",
       "  0.3591400384902954),\n",
       " ('Фермерство в одиночку',\n",
       "  'prepared_data/test/сёдзё\\\\Я разведусь со своим мужем-тираном-0.jpg',\n",
       "  0.2968764007091522),\n",
       " ('Эта фарфоровая кукла влюбилась',\n",
       "  'prepared_data/test/сэйнэн\\\\Я получил предмет мифического класса-1.jpg',\n",
       "  0.36629241704940796),\n",
       " ('Я думала, что мои дни сочтены',\n",
       "  'prepared_data/test/дзёсэй\\\\Я пытаюсь развестись со своим мужем-злодеем, но у нас есть ребёнок-7.jpg',\n",
       "  0.3701835870742798),\n",
       " ('Я думала, что мои дни сочтены',\n",
       "  'prepared_data/test/сёдзё\\\\Я стану хозяйкой этой жизни-0.jpg',\n",
       "  0.3729592263698578),\n",
       " ('Я злой бог',\n",
       "  'prepared_data/test/сёнэн\\\\Эволюционные черты некроманта-4.jpg',\n",
       "  0.3303179442882538),\n",
       " ('Я разведусь со своим мужем',\n",
       "  'prepared_data/test/дзёсэй\\\\Я приручила безумного пса моего бывшего мужа-5.jpg',\n",
       "  0.2905271053314209)}"
      ]
     },
     "execution_count": 263,
     "metadata": {},
     "output_type": "execute_result"
    }
   ],
   "source": [
    "biba.infer(img, text)"
   ]
  },
  {
   "cell_type": "code",
   "execution_count": 227,
   "id": "60dacd0f-019e-4e81-8154-ca3e3bbf8ee9",
   "metadata": {
    "tags": []
   },
   "outputs": [],
   "source": [
    "import numpy as np"
   ]
  },
  {
   "cell_type": "code",
   "execution_count": 231,
   "id": "65ff06c1-9359-4b10-9e5a-f2677aa67cdd",
   "metadata": {
    "tags": []
   },
   "outputs": [
    {
     "data": {
      "text/plain": [
       "(1307,)"
      ]
     },
     "execution_count": 231,
     "metadata": {},
     "output_type": "execute_result"
    }
   ],
   "source": [
    "np.append(img[0], text[0].numpy()).shape"
   ]
  },
  {
   "cell_type": "code",
   "execution_count": 236,
   "id": "b9740fe9-a596-4da0-8218-2f4ffa092b69",
   "metadata": {
    "tags": []
   },
   "outputs": [],
   "source": [
    "class AnnoyTree():\n",
    "    def __init__(self, img_features, text_features, classes, img_path, dist='angular', trees=10):\n",
    "        self.classes = classes\n",
    "        self.img_path = img_path\n",
    "        \n",
    "        # print(images)\n",
    "        result_tree = AnnoyIndex(img_features[0].shape[0] + text_features[0].shape[0], dist)\n",
    "        for idx in range(len(classes)):\n",
    "            result_tree.add_item(idx, np.append(img_features[idx].flatten(), text_features[idx].numpy()))\n",
    "        \n",
    "        result_tree.build(trees)\n",
    "        \n",
    "        self.tree = result_tree\n",
    "        \n",
    "    \n",
    "    def infer(self, img_feature, text_feature, top_n=5, nns=10):\n",
    "        best_idx, dists = self.tree.get_nns_by_vector(np.append(img_feature.flatten(), text_feature.numpy()), nns, include_distances=True)\n",
    "        return set(map(lambda x: (self.classes[x[0]], path[x[0]], x[1]), zip(best_idx, dists)))"
   ]
  },
  {
   "cell_type": "code",
   "execution_count": 237,
   "id": "13c490d5-7dfa-4ae0-859b-bf782f90ed95",
   "metadata": {
    "tags": []
   },
   "outputs": [
    {
     "data": {
      "text/plain": [
       "(539,)"
      ]
     },
     "execution_count": 237,
     "metadata": {},
     "output_type": "execute_result"
    }
   ],
   "source": [
    "img[0].shape"
   ]
  },
  {
   "cell_type": "code",
   "execution_count": null,
   "id": "ae5f9b97-0f28-455e-81d2-0bfb056d9874",
   "metadata": {},
   "outputs": [],
   "source": [
    "biba = AnnoyTree(img, text, manga, path)"
   ]
  },
  {
   "cell_type": "code",
   "execution_count": 240,
   "id": "bbe84175-ba55-4580-9b5e-1844861f7d4a",
   "metadata": {
    "tags": []
   },
   "outputs": [
    {
     "data": {
      "text/plain": [
       "{('Страна самоцветов',\n",
       "  'prepared_data/test/сэйнэн\\\\Страна самоцветов-9.jpg',\n",
       "  0.39322683215141296),\n",
       " ('У меня нет здоровья',\n",
       "  'prepared_data/test/сёдзё\\\\У меня нет здоровья-7.jpg',\n",
       "  0.0),\n",
       " ('Фермерство в одиночку',\n",
       "  'prepared_data/test/сёнэн\\\\Фермерство в одиночку-6.jpg',\n",
       "  0.36132174730300903),\n",
       " ('Четыре рыцаря',\n",
       "  'prepared_data/test/сёнэн\\\\Четыре рыцаря-0.jpg',\n",
       "  0.3932548463344574),\n",
       " ('Эта фарфоровая кукла влюбилась',\n",
       "  'prepared_data/test/сэйнэн\\\\Эта фарфоровая кукла влюбилась-7.jpg',\n",
       "  0.3800007998943329),\n",
       " ('Я воспитала прекрасную Золушку',\n",
       "  'prepared_data/test/дзёсэй\\\\Я воспитала прекрасную Золушку-8.jpg',\n",
       "  0.34203484654426575),\n",
       " ('Я думала, это обыкновенный исэкай',\n",
       "  'prepared_data/test/сёдзё\\\\Я думала, это обыкновенный исэкай-4.jpg',\n",
       "  0.386350154876709),\n",
       " ('Я злой бог',\n",
       "  'prepared_data/test/сэйнэн\\\\Я злой бог-1.jpg',\n",
       "  0.3871670067310333),\n",
       " ('Я паду вместе с императором',\n",
       "  'prepared_data/test/дзёсэй\\\\Я паду вместе с императором-0.jpg',\n",
       "  0.38782262802124023),\n",
       " ('Я разведусь со своим мужем',\n",
       "  'prepared_data/test/сёдзё\\\\Я разведусь со своим мужем-тираном-8.jpg',\n",
       "  0.3796634376049042)}"
      ]
     },
     "execution_count": 240,
     "metadata": {},
     "output_type": "execute_result"
    }
   ],
   "source": [
    "biba.infer(img[0], text[0])"
   ]
  },
  {
   "cell_type": "code",
   "execution_count": 20,
   "id": "a7023749-56ec-4eda-86f2-3c4a3cc815a7",
   "metadata": {},
   "outputs": [
    {
     "data": {
      "text/plain": [
       "(1, 539)"
      ]
     },
     "execution_count": 20,
     "metadata": {},
     "output_type": "execute_result"
    }
   ],
   "source": [
    "sas[0][0].shape"
   ]
  },
  {
   "cell_type": "code",
   "execution_count": 264,
   "id": "ad8a4806-56a7-4586-9312-7cddeef4c550",
   "metadata": {
    "tags": []
   },
   "outputs": [],
   "source": [
    "import pickle"
   ]
  },
  {
   "cell_type": "code",
   "execution_count": 265,
   "id": "b3b618a9-788c-40f7-8660-0df96a92a3cf",
   "metadata": {
    "tags": []
   },
   "outputs": [],
   "source": [
    "with open('model.pik', \"wb+\") as file:\n",
    "    pickle.dump(a, file)"
   ]
  },
  {
   "cell_type": "code",
   "execution_count": 267,
   "id": "46a6227d-2e79-4d60-be23-15d033d150bb",
   "metadata": {
    "tags": []
   },
   "outputs": [
    {
     "ename": "TypeError",
     "evalue": "cannot pickle 'annoy.Annoy' object",
     "output_type": "error",
     "traceback": [
      "\u001b[1;31m---------------------------------------------------------------------------\u001b[0m",
      "\u001b[1;31mTypeError\u001b[0m                                 Traceback (most recent call last)",
      "Cell \u001b[1;32mIn[267], line 2\u001b[0m\n\u001b[0;32m      1\u001b[0m \u001b[38;5;28;01mwith\u001b[39;00m \u001b[38;5;28mopen\u001b[39m(\u001b[38;5;124m'\u001b[39m\u001b[38;5;124mannoy.pik\u001b[39m\u001b[38;5;124m'\u001b[39m, \u001b[38;5;124m'\u001b[39m\u001b[38;5;124mwb+\u001b[39m\u001b[38;5;124m'\u001b[39m) \u001b[38;5;28;01mas\u001b[39;00m file:\n\u001b[1;32m----> 2\u001b[0m     \u001b[43mpickle\u001b[49m\u001b[38;5;241;43m.\u001b[39;49m\u001b[43mdump\u001b[49m\u001b[43m(\u001b[49m\u001b[43mbiba\u001b[49m\u001b[43m,\u001b[49m\u001b[43m \u001b[49m\u001b[43mfile\u001b[49m\u001b[43m)\u001b[49m\n",
      "\u001b[1;31mTypeError\u001b[0m: cannot pickle 'annoy.Annoy' object"
     ]
    }
   ],
   "source": [
    "with open('annoy.pik', 'wb+') as file:\n",
    "    pickle.dump(biba, file)"
   ]
  },
  {
   "cell_type": "code",
   "execution_count": 268,
   "id": "ff03251a-6e0f-428f-adb9-22883cb44cbd",
   "metadata": {
    "tags": []
   },
   "outputs": [
    {
     "data": {
      "text/plain": [
       "True"
      ]
     },
     "execution_count": 268,
     "metadata": {},
     "output_type": "execute_result"
    }
   ],
   "source": [
    "biba.tree.save('annoy.ann')"
   ]
  },
  {
   "cell_type": "code",
   "execution_count": 269,
   "id": "fd2eaf61-1e48-4a84-93ec-e1d9b13257b0",
   "metadata": {
    "tags": []
   },
   "outputs": [],
   "source": [
    "biba.tree = None"
   ]
  },
  {
   "cell_type": "code",
   "execution_count": 270,
   "id": "70a63884-391f-46ae-a813-ea57d8121a2d",
   "metadata": {
    "tags": []
   },
   "outputs": [],
   "source": [
    "with open('annoy.pik', 'wb+') as file:\n",
    "    pickle.dump(biba, file)"
   ]
  },
  {
   "cell_type": "code",
   "execution_count": null,
   "id": "119d85e2-46ff-42b2-9086-8d9280d23c29",
   "metadata": {},
   "outputs": [],
   "source": []
  }
 ],
 "metadata": {
  "kernelspec": {
   "display_name": "Python 3 (ipykernel)",
   "language": "python",
   "name": "python3"
  },
  "language_info": {
   "codemirror_mode": {
    "name": "ipython",
    "version": 3
   },
   "file_extension": ".py",
   "mimetype": "text/x-python",
   "name": "python",
   "nbconvert_exporter": "python",
   "pygments_lexer": "ipython3",
   "version": "3.11.3"
  }
 },
 "nbformat": 4,
 "nbformat_minor": 5
}
