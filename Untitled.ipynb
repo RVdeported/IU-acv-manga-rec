{
 "cells": [
  {
   "cell_type": "code",
   "execution_count": 1,
   "id": "d400ed62-95ca-4837-9b26-7267ed96ef2d",
   "metadata": {
    "tags": []
   },
   "outputs": [
    {
     "name": "stderr",
     "output_type": "stream",
     "text": [
      "/media/thornail/LinuxOther/anaconda3/envs/rn/lib/python3.11/site-packages/tqdm/auto.py:21: TqdmWarning: IProgress not found. Please update jupyter and ipywidgets. See https://ipywidgets.readthedocs.io/en/stable/user_install.html\n",
      "  from .autonotebook import tqdm as notebook_tqdm\n"
     ]
    }
   ],
   "source": [
    "from src.dataset import YoloDataset\n",
    "from src.model import YoloModel\n",
    "from src.feature_utils import MangaPredictor\n",
    "from pathlib import Path\n",
    "from annoy import AnnoyIndex\n",
    "\n",
    "import pickle"
   ]
  },
  {
   "cell_type": "code",
   "execution_count": 2,
   "id": "2c96a3c8-fe52-4662-9529-990acc93c546",
   "metadata": {
    "tags": []
   },
   "outputs": [],
   "source": [
    "# yolo = YoloModel(\"./prepared_data/\", (32,458), 1)\n"
   ]
  },
  {
   "cell_type": "code",
   "execution_count": null,
   "id": "de2b6766",
   "metadata": {},
   "outputs": [],
   "source": [
    "# with open(\"./yolo_final.pckl\", \"wb+\") as file:\n",
    "#     pickle.dump(yolo, file)\n",
    "# yolo = None\n",
    "\n",
    "a = MangaPredictor(n_pca=20, ocr_device=\"cuda\")\n",
    "\n",
    "# train of a model\n",
    "a.train(\"./prepared_data/\", (16, 128), 1)\n",
    "\n",
    "# inference\n",
    "features , manga, path = a(\"./prepared_data/test/\")\n",
    "\n",
    "# save and load model\n",
    "a.save(\"./model.pckl\")\n",
    "a = MangaPredictor.load(\"./model.pckl\")"
   ]
  },
  {
   "cell_type": "code",
   "execution_count": 8,
   "id": "53895206",
   "metadata": {},
   "outputs": [
    {
     "data": {
      "text/html": [
       "<style>#sk-container-id-1 {color: black;background-color: white;}#sk-container-id-1 pre{padding: 0;}#sk-container-id-1 div.sk-toggleable {background-color: white;}#sk-container-id-1 label.sk-toggleable__label {cursor: pointer;display: block;width: 100%;margin-bottom: 0;padding: 0.3em;box-sizing: border-box;text-align: center;}#sk-container-id-1 label.sk-toggleable__label-arrow:before {content: \"▸\";float: left;margin-right: 0.25em;color: #696969;}#sk-container-id-1 label.sk-toggleable__label-arrow:hover:before {color: black;}#sk-container-id-1 div.sk-estimator:hover label.sk-toggleable__label-arrow:before {color: black;}#sk-container-id-1 div.sk-toggleable__content {max-height: 0;max-width: 0;overflow: hidden;text-align: left;background-color: #f0f8ff;}#sk-container-id-1 div.sk-toggleable__content pre {margin: 0.2em;color: black;border-radius: 0.25em;background-color: #f0f8ff;}#sk-container-id-1 input.sk-toggleable__control:checked~div.sk-toggleable__content {max-height: 200px;max-width: 100%;overflow: auto;}#sk-container-id-1 input.sk-toggleable__control:checked~label.sk-toggleable__label-arrow:before {content: \"▾\";}#sk-container-id-1 div.sk-estimator input.sk-toggleable__control:checked~label.sk-toggleable__label {background-color: #d4ebff;}#sk-container-id-1 div.sk-label input.sk-toggleable__control:checked~label.sk-toggleable__label {background-color: #d4ebff;}#sk-container-id-1 input.sk-hidden--visually {border: 0;clip: rect(1px 1px 1px 1px);clip: rect(1px, 1px, 1px, 1px);height: 1px;margin: -1px;overflow: hidden;padding: 0;position: absolute;width: 1px;}#sk-container-id-1 div.sk-estimator {font-family: monospace;background-color: #f0f8ff;border: 1px dotted black;border-radius: 0.25em;box-sizing: border-box;margin-bottom: 0.5em;}#sk-container-id-1 div.sk-estimator:hover {background-color: #d4ebff;}#sk-container-id-1 div.sk-parallel-item::after {content: \"\";width: 100%;border-bottom: 1px solid gray;flex-grow: 1;}#sk-container-id-1 div.sk-label:hover label.sk-toggleable__label {background-color: #d4ebff;}#sk-container-id-1 div.sk-serial::before {content: \"\";position: absolute;border-left: 1px solid gray;box-sizing: border-box;top: 0;bottom: 0;left: 50%;z-index: 0;}#sk-container-id-1 div.sk-serial {display: flex;flex-direction: column;align-items: center;background-color: white;padding-right: 0.2em;padding-left: 0.2em;position: relative;}#sk-container-id-1 div.sk-item {position: relative;z-index: 1;}#sk-container-id-1 div.sk-parallel {display: flex;align-items: stretch;justify-content: center;background-color: white;position: relative;}#sk-container-id-1 div.sk-item::before, #sk-container-id-1 div.sk-parallel-item::before {content: \"\";position: absolute;border-left: 1px solid gray;box-sizing: border-box;top: 0;bottom: 0;left: 50%;z-index: -1;}#sk-container-id-1 div.sk-parallel-item {display: flex;flex-direction: column;z-index: 1;position: relative;background-color: white;}#sk-container-id-1 div.sk-parallel-item:first-child::after {align-self: flex-end;width: 50%;}#sk-container-id-1 div.sk-parallel-item:last-child::after {align-self: flex-start;width: 50%;}#sk-container-id-1 div.sk-parallel-item:only-child::after {width: 0;}#sk-container-id-1 div.sk-dashed-wrapped {border: 1px dashed gray;margin: 0 0.4em 0.5em 0.4em;box-sizing: border-box;padding-bottom: 0.4em;background-color: white;}#sk-container-id-1 div.sk-label label {font-family: monospace;font-weight: bold;display: inline-block;line-height: 1.2em;}#sk-container-id-1 div.sk-label-container {text-align: center;}#sk-container-id-1 div.sk-container {/* jupyter's `normalize.less` sets `[hidden] { display: none; }` but bootstrap.min.css set `[hidden] { display: none !important; }` so we also need the `!important` here to be able to override the default hidden behavior on the sphinx rendered scikit-learn.org. See: https://github.com/scikit-learn/scikit-learn/issues/21755 */display: inline-block !important;position: relative;}#sk-container-id-1 div.sk-text-repr-fallback {display: none;}</style><div id=\"sk-container-id-1\" class=\"sk-top-container\"><div class=\"sk-text-repr-fallback\"><pre>PCA(n_components=20)</pre><b>In a Jupyter environment, please rerun this cell to show the HTML representation or trust the notebook. <br />On GitHub, the HTML representation is unable to render, please try loading this page with nbviewer.org.</b></div><div class=\"sk-container\" hidden><div class=\"sk-item\"><div class=\"sk-estimator sk-toggleable\"><input class=\"sk-toggleable__control sk-hidden--visually\" id=\"sk-estimator-id-1\" type=\"checkbox\" checked><label for=\"sk-estimator-id-1\" class=\"sk-toggleable__label sk-toggleable__label-arrow\">PCA</label><div class=\"sk-toggleable__content\"><pre>PCA(n_components=20)</pre></div></div></div></div></div>"
      ],
      "text/plain": [
       "PCA(n_components=20)"
      ]
     },
     "execution_count": 8,
     "metadata": {},
     "output_type": "execute_result"
    }
   ],
   "source": []
  },
  {
   "cell_type": "code",
   "execution_count": 5,
   "id": "b54ac53a",
   "metadata": {},
   "outputs": [
    {
     "data": {
      "text/plain": [
       "(202, 20)"
      ]
     },
     "execution_count": 5,
     "metadata": {},
     "output_type": "execute_result"
    }
   ],
   "source": [
    "features.shape"
   ]
  },
  {
   "cell_type": "code",
   "execution_count": null,
   "id": "60dacd0f-019e-4e81-8154-ca3e3bbf8ee9",
   "metadata": {
    "tags": []
   },
   "outputs": [],
   "source": [
    "import numpy as np"
   ]
  },
  {
   "cell_type": "code",
   "execution_count": null,
   "id": "65ff06c1-9359-4b10-9e5a-f2677aa67cdd",
   "metadata": {
    "tags": []
   },
   "outputs": [
    {
     "data": {
      "text/plain": [
       "(1307,)"
      ]
     },
     "execution_count": 231,
     "metadata": {},
     "output_type": "execute_result"
    }
   ],
   "source": [
    "np.append(img[0], text[0].numpy()).shape"
   ]
  },
  {
   "cell_type": "code",
   "execution_count": null,
   "id": "b9740fe9-a596-4da0-8218-2f4ffa092b69",
   "metadata": {
    "tags": []
   },
   "outputs": [],
   "source": [
    "class AnnoyTree():\n",
    "    def __init__(self, img_features, text_features, classes, img_path, dist='angular', trees=10):\n",
    "        self.classes = classes\n",
    "        self.img_path = img_path\n",
    "        \n",
    "        # print(images)\n",
    "        result_tree = AnnoyIndex(img_features[0].shape[0] + text_features[0].shape[0], dist)\n",
    "        for idx in range(len(classes)):\n",
    "            result_tree.add_item(idx, np.append(img_features[idx].flatten(), text_features[idx].numpy()))\n",
    "        \n",
    "        result_tree.build(trees)\n",
    "        \n",
    "        self.tree = result_tree\n",
    "        \n",
    "    \n",
    "    def infer(self, img_feature, text_feature, top_n=5, nns=10):\n",
    "        best_idx, dists = self.tree.get_nns_by_vector(np.append(img_feature.flatten(), text_feature.numpy()), nns, include_distances=True)\n",
    "        return set(map(lambda x: (self.classes[x[0]], path[x[0]], x[1]), zip(best_idx, dists)))"
   ]
  },
  {
   "cell_type": "code",
   "execution_count": null,
   "id": "13c490d5-7dfa-4ae0-859b-bf782f90ed95",
   "metadata": {
    "tags": []
   },
   "outputs": [
    {
     "ename": "NameError",
     "evalue": "name 'img' is not defined",
     "output_type": "error",
     "traceback": [
      "\u001b[0;31m---------------------------------------------------------------------------\u001b[0m",
      "\u001b[0;31mNameError\u001b[0m                                 Traceback (most recent call last)",
      "\u001b[1;32m/home/thornail/Desktop/IU-acv-manga-rec/Untitled.ipynb Cell 18\u001b[0m line \u001b[0;36m1\n\u001b[0;32m----> <a href='vscode-notebook-cell:/home/thornail/Desktop/IU-acv-manga-rec/Untitled.ipynb#X23sZmlsZQ%3D%3D?line=0'>1</a>\u001b[0m img[\u001b[39m0\u001b[39m]\u001b[39m.\u001b[39mshape\n",
      "\u001b[0;31mNameError\u001b[0m: name 'img' is not defined"
     ]
    }
   ],
   "source": [
    "img[0].shape"
   ]
  },
  {
   "cell_type": "code",
   "execution_count": null,
   "id": "ae5f9b97-0f28-455e-81d2-0bfb056d9874",
   "metadata": {},
   "outputs": [],
   "source": [
    "biba = AnnoyTree(img, text, manga, path)"
   ]
  },
  {
   "cell_type": "code",
   "execution_count": null,
   "id": "bbe84175-ba55-4580-9b5e-1844861f7d4a",
   "metadata": {
    "tags": []
   },
   "outputs": [
    {
     "data": {
      "text/plain": [
       "{('Страна самоцветов',\n",
       "  'prepared_data/test/сэйнэн\\\\Страна самоцветов-9.jpg',\n",
       "  0.39322683215141296),\n",
       " ('У меня нет здоровья',\n",
       "  'prepared_data/test/сёдзё\\\\У меня нет здоровья-7.jpg',\n",
       "  0.0),\n",
       " ('Фермерство в одиночку',\n",
       "  'prepared_data/test/сёнэн\\\\Фермерство в одиночку-6.jpg',\n",
       "  0.36132174730300903),\n",
       " ('Четыре рыцаря',\n",
       "  'prepared_data/test/сёнэн\\\\Четыре рыцаря-0.jpg',\n",
       "  0.3932548463344574),\n",
       " ('Эта фарфоровая кукла влюбилась',\n",
       "  'prepared_data/test/сэйнэн\\\\Эта фарфоровая кукла влюбилась-7.jpg',\n",
       "  0.3800007998943329),\n",
       " ('Я воспитала прекрасную Золушку',\n",
       "  'prepared_data/test/дзёсэй\\\\Я воспитала прекрасную Золушку-8.jpg',\n",
       "  0.34203484654426575),\n",
       " ('Я думала, это обыкновенный исэкай',\n",
       "  'prepared_data/test/сёдзё\\\\Я думала, это обыкновенный исэкай-4.jpg',\n",
       "  0.386350154876709),\n",
       " ('Я злой бог',\n",
       "  'prepared_data/test/сэйнэн\\\\Я злой бог-1.jpg',\n",
       "  0.3871670067310333),\n",
       " ('Я паду вместе с императором',\n",
       "  'prepared_data/test/дзёсэй\\\\Я паду вместе с императором-0.jpg',\n",
       "  0.38782262802124023),\n",
       " ('Я разведусь со своим мужем',\n",
       "  'prepared_data/test/сёдзё\\\\Я разведусь со своим мужем-тираном-8.jpg',\n",
       "  0.3796634376049042)}"
      ]
     },
     "execution_count": 240,
     "metadata": {},
     "output_type": "execute_result"
    }
   ],
   "source": [
    "biba.infer(img[0], text[0])"
   ]
  },
  {
   "cell_type": "code",
   "execution_count": null,
   "id": "a7023749-56ec-4eda-86f2-3c4a3cc815a7",
   "metadata": {},
   "outputs": [
    {
     "data": {
      "text/plain": [
       "(1, 539)"
      ]
     },
     "execution_count": 20,
     "metadata": {},
     "output_type": "execute_result"
    }
   ],
   "source": [
    "sas[0][0].shape"
   ]
  },
  {
   "cell_type": "code",
   "execution_count": null,
   "id": "ad8a4806-56a7-4586-9312-7cddeef4c550",
   "metadata": {
    "tags": []
   },
   "outputs": [],
   "source": [
    "import pickle"
   ]
  },
  {
   "cell_type": "code",
   "execution_count": null,
   "id": "b3b618a9-788c-40f7-8660-0df96a92a3cf",
   "metadata": {
    "tags": []
   },
   "outputs": [],
   "source": [
    "with open('model.pik', \"wb+\") as file:\n",
    "    pickle.dump(a, file)"
   ]
  },
  {
   "cell_type": "code",
   "execution_count": null,
   "id": "46a6227d-2e79-4d60-be23-15d033d150bb",
   "metadata": {
    "tags": []
   },
   "outputs": [
    {
     "ename": "TypeError",
     "evalue": "cannot pickle 'annoy.Annoy' object",
     "output_type": "error",
     "traceback": [
      "\u001b[1;31m---------------------------------------------------------------------------\u001b[0m",
      "\u001b[1;31mTypeError\u001b[0m                                 Traceback (most recent call last)",
      "Cell \u001b[1;32mIn[267], line 2\u001b[0m\n\u001b[0;32m      1\u001b[0m \u001b[38;5;28;01mwith\u001b[39;00m \u001b[38;5;28mopen\u001b[39m(\u001b[38;5;124m'\u001b[39m\u001b[38;5;124mannoy.pik\u001b[39m\u001b[38;5;124m'\u001b[39m, \u001b[38;5;124m'\u001b[39m\u001b[38;5;124mwb+\u001b[39m\u001b[38;5;124m'\u001b[39m) \u001b[38;5;28;01mas\u001b[39;00m file:\n\u001b[1;32m----> 2\u001b[0m     \u001b[43mpickle\u001b[49m\u001b[38;5;241;43m.\u001b[39;49m\u001b[43mdump\u001b[49m\u001b[43m(\u001b[49m\u001b[43mbiba\u001b[49m\u001b[43m,\u001b[49m\u001b[43m \u001b[49m\u001b[43mfile\u001b[49m\u001b[43m)\u001b[49m\n",
      "\u001b[1;31mTypeError\u001b[0m: cannot pickle 'annoy.Annoy' object"
     ]
    }
   ],
   "source": [
    "with open('annoy.pik', 'wb+') as file:\n",
    "    pickle.dump(biba, file)"
   ]
  },
  {
   "cell_type": "code",
   "execution_count": null,
   "id": "ff03251a-6e0f-428f-adb9-22883cb44cbd",
   "metadata": {
    "tags": []
   },
   "outputs": [
    {
     "data": {
      "text/plain": [
       "True"
      ]
     },
     "execution_count": 268,
     "metadata": {},
     "output_type": "execute_result"
    }
   ],
   "source": [
    "biba.tree.save('annoy.ann')"
   ]
  },
  {
   "cell_type": "code",
   "execution_count": null,
   "id": "fd2eaf61-1e48-4a84-93ec-e1d9b13257b0",
   "metadata": {
    "tags": []
   },
   "outputs": [],
   "source": [
    "biba.tree = None"
   ]
  },
  {
   "cell_type": "code",
   "execution_count": null,
   "id": "70a63884-391f-46ae-a813-ea57d8121a2d",
   "metadata": {
    "tags": []
   },
   "outputs": [],
   "source": [
    "with open('annoy.pik', 'wb+') as file:\n",
    "    pickle.dump(biba, file)"
   ]
  },
  {
   "cell_type": "code",
   "execution_count": null,
   "id": "119d85e2-46ff-42b2-9086-8d9280d23c29",
   "metadata": {},
   "outputs": [],
   "source": []
  }
 ],
 "metadata": {
  "kernelspec": {
   "display_name": "Python 3 (ipykernel)",
   "language": "python",
   "name": "python3"
  },
  "language_info": {
   "codemirror_mode": {
    "name": "ipython",
    "version": 3
   },
   "file_extension": ".py",
   "mimetype": "text/x-python",
   "name": "python",
   "nbconvert_exporter": "python",
   "pygments_lexer": "ipython3",
   "version": "3.1.0"
  }
 },
 "nbformat": 4,
 "nbformat_minor": 5
}
