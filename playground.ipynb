{
 "cells": [
  {
   "cell_type": "code",
   "execution_count": 1,
   "id": "5b7aaa26-1534-4f79-b9ee-408bb29eba16",
   "metadata": {
    "tags": []
   },
   "outputs": [],
   "source": [
    "from src.annoy_index import AnnoyTree\n",
    "from src.model import YoloModel\n",
    "from src.feature_utils import MangaPredictor\n",
    "import pickle"
   ]
  },
  {
   "cell_type": "code",
   "execution_count": 6,
   "id": "940bd182-f2a7-42f7-b37a-e755b0f1ea62",
   "metadata": {
    "tags": []
   },
   "outputs": [],
   "source": [
    "sas = YoloModel.load('model.pik')"
   ]
  },
  {
   "cell_type": "code",
   "execution_count": 10,
   "id": "2ed4a11f-9f1a-48af-90a5-ca797b462769",
   "metadata": {
    "tags": []
   },
   "outputs": [],
   "source": [
    "img, text, manga, path = sas.get_features('prepared_data/val/')"
   ]
  },
  {
   "cell_type": "code",
   "execution_count": 12,
   "id": "d853fdd8-aa8b-4564-a82d-951ec6a3253e",
   "metadata": {
    "tags": []
   },
   "outputs": [
    {
     "data": {
      "text/plain": [
       "49920"
      ]
     },
     "execution_count": 12,
     "metadata": {},
     "output_type": "execute_result"
    }
   ],
   "source": [
    "img[0].shape[0] + text[0].shape[0]"
   ]
  },
  {
   "cell_type": "code",
   "execution_count": 8,
   "id": "20f1ad92-6d60-45bd-bdff-d0daafbb1518",
   "metadata": {
    "tags": []
   },
   "outputs": [],
   "source": [
    "with open('results/image_vectors.pik', \"wb+\") as f:\n",
    "    pickle.dump(img, f)"
   ]
  },
  {
   "cell_type": "code",
   "execution_count": 9,
   "id": "8a716f65-5303-4675-977a-c70eb1416573",
   "metadata": {
    "tags": []
   },
   "outputs": [],
   "source": [
    "with open('results/text_vectors.pik', \"wb+\") as f:\n",
    "    pickle.dump(text, f)"
   ]
  },
  {
   "cell_type": "code",
   "execution_count": 10,
   "id": "f5a20a2b-5d88-4641-9b2c-e22bbfaa15ca",
   "metadata": {
    "tags": []
   },
   "outputs": [],
   "source": [
    "with open('results/manga_names.pik', \"wb+\") as f:\n",
    "    pickle.dump(manga, f)"
   ]
  },
  {
   "cell_type": "code",
   "execution_count": 11,
   "id": "082a23da-4477-4592-9ace-3072b5f714ae",
   "metadata": {
    "tags": []
   },
   "outputs": [],
   "source": [
    "with open('results/paths.pik', \"wb+\") as f:\n",
    "    pickle.dump(path, f)"
   ]
  },
  {
   "cell_type": "code",
   "execution_count": 16,
   "id": "7a72dc3c-c4ea-408f-8de7-33d379e1f180",
   "metadata": {
    "tags": []
   },
   "outputs": [],
   "source": []
  },
  {
   "cell_type": "code",
   "execution_count": 6,
   "id": "7a2f38ea-8fd9-4785-845e-9df7fb468baa",
   "metadata": {
    "tags": []
   },
   "outputs": [],
   "source": [
    "with open('results/text_vectors.pik', \"rb\") as f:\n",
    "    text = pickle.load(f)\n",
    "with open('results/image_vectors.pik', \"rb\") as f:\n",
    "    img = pickle.load(f)\n",
    "with open('results/manga_names.pik', \"rb\") as f:\n",
    "    manga = pickle.load(f)\n",
    "with open('results/paths.pik', \"rb\") as f:\n",
    "    path = pickle.load(f)\n",
    "\n",
    "sas = YoloModel.load('model.pik')\n",
    "ann = AnnoyTree(img, text, manga, path)"
   ]
  },
  {
   "cell_type": "code",
   "execution_count": null,
   "id": "ad14273a-5ebf-44e0-a2bb-e08f0d611dad",
   "metadata": {},
   "outputs": [],
   "source": [
    "a = AnoyTree()"
   ]
  }
 ],
 "metadata": {
  "kernelspec": {
   "display_name": "Python 3 (ipykernel)",
   "language": "python",
   "name": "python3"
  },
  "language_info": {
   "codemirror_mode": {
    "name": "ipython",
    "version": 3
   },
   "file_extension": ".py",
   "mimetype": "text/x-python",
   "name": "python",
   "nbconvert_exporter": "python",
   "pygments_lexer": "ipython3",
   "version": "3.11.3"
  }
 },
 "nbformat": 4,
 "nbformat_minor": 5
}
